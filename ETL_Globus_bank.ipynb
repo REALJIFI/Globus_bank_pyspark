{
 "cells": [
  {
   "cell_type": "markdown",
   "metadata": {},
   "source": [
    "### remember github cannot commit files larger than 100mb so always create and  use the git ignore  format."
   ]
  },
  {
   "cell_type": "markdown",
   "metadata": {},
   "source": [
    "### Install or Import necessary libraries"
   ]
  },
  {
   "cell_type": "code",
   "execution_count": 1,
   "metadata": {},
   "outputs": [],
   "source": [
    "# Install or Import necessary libraries\n",
    "from pyspark.sql import SparkSession\n",
    "from pyspark.sql.functions import monotonically_increasing_id \n",
    "import pandas as pd\n",
    "from datetime import datetime, timedelta\n",
    "from sqlalchemy import create_engine\n",
    "import sqlite3\n",
    "import psycopg2\n",
    "from dotenv import load_dotenv\n",
    "import os"
   ]
  },
  {
   "cell_type": "code",
   "execution_count": 2,
   "metadata": {},
   "outputs": [],
   "source": [
    "## set jave home to avoid java running with the previous version\n",
    "os.environ['JAVA_HOME'] = r'C:\\Program Files\\Java\\jdk-1.8'"
   ]
  },
  {
   "cell_type": "code",
   "execution_count": 3,
   "metadata": {},
   "outputs": [],
   "source": [
    "# initialize my spark seesion\n",
    "spark = SparkSession.builder\\\n",
    "        .appName(\"Globus bank Etl \")\\\n",
    "        .config(\"spark.jars\", \"postgresql-42.7.4.jar\")\\\n",
    "        .getOrCreate()"
   ]
  },
  {
   "cell_type": "code",
   "execution_count": 4,
   "metadata": {},
   "outputs": [
    {
     "data": {
      "text/html": [
       "\n",
       "            <div>\n",
       "                <p><b>SparkSession - in-memory</b></p>\n",
       "                \n",
       "        <div>\n",
       "            <p><b>SparkContext</b></p>\n",
       "\n",
       "            <p><a href=\"http://192.168.1.135:4040\">Spark UI</a></p>\n",
       "\n",
       "            <dl>\n",
       "              <dt>Version</dt>\n",
       "                <dd><code>v3.5.2</code></dd>\n",
       "              <dt>Master</dt>\n",
       "                <dd><code>local[*]</code></dd>\n",
       "              <dt>AppName</dt>\n",
       "                <dd><code>Globus bank Etl </code></dd>\n",
       "            </dl>\n",
       "        </div>\n",
       "        \n",
       "            </div>\n",
       "        "
      ],
      "text/plain": [
       "<pyspark.sql.session.SparkSession at 0x1fc4357c800>"
      ]
     },
     "execution_count": 4,
     "metadata": {},
     "output_type": "execute_result"
    }
   ],
   "source": [
    "spark"
   ]
  },
  {
   "cell_type": "code",
   "execution_count": 5,
   "metadata": {},
   "outputs": [],
   "source": [
    "# Extract this historical data into spark dataframe\n",
    "df = spark.read.csv(r'dataset\\rawdata\\Globus_bank_transactions.csv', header=True, inferSchema=True)"
   ]
  },
  {
   "cell_type": "code",
   "execution_count": 6,
   "metadata": {},
   "outputs": [
    {
     "name": "stdout",
     "output_type": "stream",
     "text": [
      "+--------------------+------+----------------+--------------+--------------------+------------------+--------------+--------------------+--------------------+--------------------+--------------------+-------------------+------------------+--------------------+-------------+-------------+--------+-----+---------+--------------------+--------------------+------+--------------+\n",
      "|    Transaction_Date|Amount|Transaction_Type| Customer_Name|    Customer_Address|     Customer_City|Customer_State|    Customer_Country|             Company|           Job_Title|               Email|       Phone_Number|Credit_Card_Number|                IBAN|Currency_Code|Random_Number|Category|Group|Is_Active|        Last_Updated|         Description|Gender|Marital_Status|\n",
      "+--------------------+------+----------------+--------------+--------------------+------------------+--------------+--------------------+--------------------+--------------------+--------------------+-------------------+------------------+--------------------+-------------+-------------+--------+-----+---------+--------------------+--------------------+------+--------------+\n",
      "|2024-03-23 15:38:...| 34.76|      Withdrawal|    James Neal|54912 Holmes Lodg...| West Keithborough|       Florida|                Togo|Benson, Johnson a...|                NULL|                NULL|  493.720.6609x7545|  3592901394693441|GB98RBPP090285271...|          MAD|       3167.0|       C|    Z|       No|2020-06-20 03:04:...|Yeah food anythin...| Other|      Divorced|\n",
      "|2024-04-22 19:15:...|163.92|      Withdrawal|   Thomas Long| 1133 Collin Passage|        Joshuabury|   Connecticut|Lao People's Demo...|                NULL|   Food technologist|michellelynch@exa...|      (497)554-3317|              NULL|GB03KFZR339662263...|          VEF|       2122.0|       B|    Z|     NULL|2020-12-27 13:23:...|Teach edge make n...|Female|       Married|\n",
      "|2024-04-12 19:46:...|386.32|      Withdrawal|Ashley Shelton|5297 Johnson Port...|       North Maria|    New Jersey|              Bhutan|       Jones-Mueller|Database administ...| ljordan@example.org|      (534)769-3072|      675983949974|GB59QYRN446730519...|          COP|       7796.0|       C|    Z|       No|2020-01-24 01:23:...|Again line face c...| Other|          NULL|\n",
      "|2024-04-17 15:29:...|407.15|         Deposit| James Rosario|56955 Moore Glens...|North Michellefurt|    New Mexico|             Iceland|       Vargas-Harris|Horticultural the...|parkerjames@examp...|+1-447-900-1320x257|     4761202519057|GB74FTDO268299438...|          BWP|       6284.0|       C|    Z|      Yes|2023-09-27 03:01:...|     Bag my a drive.|  NULL|          NULL|\n",
      "|2024-02-10 01:51:...|161.31|         Deposit|Miguel Leonard|262 Beck Expressw...|              NULL| West Virginia|             Eritrea|Richardson, Gonza...|   Minerals surveyor| zweaver@example.net|               NULL|   213156729655186|GB94EWRN587847592...|          SOS|       9179.0|       C|    Y|       No|2022-01-22 19:08:...|Husband find ok w...|Female|       Married|\n",
      "+--------------------+------+----------------+--------------+--------------------+------------------+--------------+--------------------+--------------------+--------------------+--------------------+-------------------+------------------+--------------------+-------------+-------------+--------+-----+---------+--------------------+--------------------+------+--------------+\n",
      "only showing top 5 rows\n",
      "\n"
     ]
    }
   ],
   "source": [
    "df.show(5)"
   ]
  },
  {
   "cell_type": "code",
   "execution_count": 7,
   "metadata": {},
   "outputs": [
    {
     "name": "stdout",
     "output_type": "stream",
     "text": [
      "root\n",
      " |-- Transaction_Date: timestamp (nullable = true)\n",
      " |-- Amount: double (nullable = true)\n",
      " |-- Transaction_Type: string (nullable = true)\n",
      " |-- Customer_Name: string (nullable = true)\n",
      " |-- Customer_Address: string (nullable = true)\n",
      " |-- Customer_City: string (nullable = true)\n",
      " |-- Customer_State: string (nullable = true)\n",
      " |-- Customer_Country: string (nullable = true)\n",
      " |-- Company: string (nullable = true)\n",
      " |-- Job_Title: string (nullable = true)\n",
      " |-- Email: string (nullable = true)\n",
      " |-- Phone_Number: string (nullable = true)\n",
      " |-- Credit_Card_Number: long (nullable = true)\n",
      " |-- IBAN: string (nullable = true)\n",
      " |-- Currency_Code: string (nullable = true)\n",
      " |-- Random_Number: double (nullable = true)\n",
      " |-- Category: string (nullable = true)\n",
      " |-- Group: string (nullable = true)\n",
      " |-- Is_Active: string (nullable = true)\n",
      " |-- Last_Updated: timestamp (nullable = true)\n",
      " |-- Description: string (nullable = true)\n",
      " |-- Gender: string (nullable = true)\n",
      " |-- Marital_Status: string (nullable = true)\n",
      "\n"
     ]
    }
   ],
   "source": [
    "df.printSchema()"
   ]
  },
  {
   "cell_type": "markdown",
   "metadata": {},
   "source": [
    "### Data cleaning and Transformation"
   ]
  },
  {
   "cell_type": "code",
   "execution_count": 8,
   "metadata": {},
   "outputs": [
    {
     "name": "stdout",
     "output_type": "stream",
     "text": [
      "Transaction_Date Nulls: 0\n",
      "Amount Nulls: 0\n",
      "Transaction_Type Nulls: 0\n",
      "Customer_Name Nulls: 100425\n",
      "Customer_Address Nulls: 100087\n",
      "Customer_City Nulls: 100034\n",
      "Customer_State Nulls: 100009\n",
      "Customer_Country Nulls: 100672\n",
      "Company Nulls: 100295\n",
      "Job_Title Nulls: 99924\n",
      "Email Nulls: 100043\n",
      "Phone_Number Nulls: 100524\n",
      "Credit_Card_Number Nulls: 100085\n",
      "IBAN Nulls: 100300\n",
      "Currency_Code Nulls: 99342\n",
      "Random_Number Nulls: 99913\n",
      "Category Nulls: 100332\n",
      "Group Nulls: 100209\n",
      "Is_Active Nulls: 100259\n",
      "Last_Updated Nulls: 100321\n",
      "Description Nulls: 100403\n",
      "Gender Nulls: 99767\n",
      "Marital_Status Nulls: 99904\n"
     ]
    }
   ],
   "source": [
    "# Data cleaning and Transformation(to check missing values and nulls in the column)\n",
    "for column in df.columns:\n",
    "    print(column,'Nulls:', df.filter(df[column].isNull()).count())\n"
   ]
  },
  {
   "cell_type": "code",
   "execution_count": 9,
   "metadata": {},
   "outputs": [],
   "source": [
    "df_clean = df.fillna({\n",
    "    'Customer_Name': 'unknown',\n",
    "    'Customer_Address': 'unknown',\n",
    "    'Customer_City': 'unknown',\n",
    "    'Customer_State':'unknown',\n",
    "    'Customer_Country': 'unknown',\n",
    "    'Company': 'unknown',\n",
    "    'Job_Title': 'unknown',\n",
    "    'Email': 'unknown',\n",
    "    'Phone_Number': 'unknown',\n",
    "    'Credit_Card_Number': 0,\n",
    "    'IBAN': 'unknown',\n",
    "    'Currency_Code': 'unknown',\n",
    "    'Random_Number': 0.0,\n",
    "    'Category': 'unknown',\n",
    "    'Group': 'unknown',\n",
    "    'Is_Active': 'unknown',\n",
    "    'Description': 'unknown',\n",
    "    'Gender': 'unknown',\n",
    "    'Marital_Status': 'unknown'\n",
    "})"
   ]
  },
  {
   "cell_type": "code",
   "execution_count": 10,
   "metadata": {},
   "outputs": [],
   "source": [
    "df_clean = df_clean.na.drop(subset=['Last_Updated'])"
   ]
  },
  {
   "cell_type": "code",
   "execution_count": 11,
   "metadata": {},
   "outputs": [
    {
     "name": "stdout",
     "output_type": "stream",
     "text": [
      "Transaction_Date Nulls: 0\n",
      "Amount Nulls: 0\n",
      "Transaction_Type Nulls: 0\n",
      "Customer_Name Nulls: 0\n",
      "Customer_Address Nulls: 0\n",
      "Customer_City Nulls: 0\n",
      "Customer_State Nulls: 0\n",
      "Customer_Country Nulls: 0\n",
      "Company Nulls: 0\n",
      "Job_Title Nulls: 0\n",
      "Email Nulls: 0\n",
      "Phone_Number Nulls: 0\n",
      "Credit_Card_Number Nulls: 0\n",
      "IBAN Nulls: 0\n",
      "Currency_Code Nulls: 0\n",
      "Random_Number Nulls: 0\n",
      "Category Nulls: 0\n",
      "Group Nulls: 0\n",
      "Is_Active Nulls: 0\n",
      "Last_Updated Nulls: 0\n",
      "Description Nulls: 0\n",
      "Gender Nulls: 0\n",
      "Marital_Status Nulls: 0\n"
     ]
    }
   ],
   "source": [
    "# confirm that you have sorted missing values\n",
    "for column in df_clean.columns:\n",
    "    print(column,'Nulls:', df_clean.filter(df_clean[column].isNull()).count())"
   ]
  },
  {
   "cell_type": "markdown",
   "metadata": {},
   "source": [
    "### Transformation to 2NF"
   ]
  },
  {
   "cell_type": "code",
   "execution_count": 12,
   "metadata": {},
   "outputs": [
    {
     "name": "stdout",
     "output_type": "stream",
     "text": [
      "+--------------+--------------------+------+----------------+\n",
      "|Transaction_ID|    Transaction_Date|Amount|Transaction_Type|\n",
      "+--------------+--------------------+------+----------------+\n",
      "|             0|2024-03-23 15:38:...| 34.76|      Withdrawal|\n",
      "|             1|2024-04-22 19:15:...|163.92|      Withdrawal|\n",
      "|             2|2024-04-12 19:46:...|386.32|      Withdrawal|\n",
      "|             3|2024-04-17 15:29:...|407.15|         Deposit|\n",
      "|             4|2024-02-10 01:51:...|161.31|         Deposit|\n",
      "+--------------+--------------------+------+----------------+\n",
      "only showing top 5 rows\n",
      "\n"
     ]
    }
   ],
   "source": [
    "# Transformation to 2NF\n",
    "# Transactaction table\n",
    "Transaction = df_clean.select('Transaction_Date', 'Amount', 'Transaction_Type')\\\n",
    "                      .withColumn('Transaction_ID', monotonically_increasing_id())\\\n",
    "                      .select('Transaction_ID','Transaction_Date', 'Amount', 'Transaction_Type')\n",
    "\n",
    "Transaction.show(5)"
   ]
  },
  {
   "cell_type": "code",
   "execution_count": 13,
   "metadata": {},
   "outputs": [
    {
     "name": "stdout",
     "output_type": "stream",
     "text": [
      "+-----------+----------------+--------------------+-------------+--------------+--------------------+\n",
      "|Customer_ID|   Customer_Name|    Customer_Address|Customer_City|Customer_State|    Customer_Country|\n",
      "+-----------+----------------+--------------------+-------------+--------------+--------------------+\n",
      "|          0|     Jamie Dixon|0146 Veronica Mou...|    Jonesland|      Delaware|        Saint Martin|\n",
      "|          1|     Vicki James|7987 Carr Bridge ...|      unknown| West Virginia|         Puerto Rico|\n",
      "|          2|Jennifer Kennedy|     388 Susan Forks|   East Jason|          Ohio|United States of ...|\n",
      "|          3|     Susan Green|40609 Amber Junct...|     Markfort|      Colorado|       Liechtenstein|\n",
      "|          4| Elizabeth Hicks|             unknown|      unknown|         Maine|          Micronesia|\n",
      "+-----------+----------------+--------------------+-------------+--------------+--------------------+\n",
      "only showing top 5 rows\n",
      "\n"
     ]
    }
   ],
   "source": [
    "# Customer Table\n",
    "Customer = df_clean.select('Customer_Name','Customer_Address','Customer_City',\n",
    "                                        'Customer_State','Customer_Country').distinct()\\\n",
    "                   .withColumn('Customer_ID', monotonically_increasing_id())\\\n",
    "                   .select('Customer_ID','Customer_Name','Customer_Address','Customer_City',\n",
    "                                        'Customer_State','Customer_Country')\n",
    "\n",
    "Customer.show(5)"
   ]
  },
  {
   "cell_type": "code",
   "execution_count": 14,
   "metadata": {},
   "outputs": [
    {
     "name": "stdout",
     "output_type": "stream",
     "text": [
      "+-----------+--------------+--------------------+--------------------+--------------------+-------+--------------+\n",
      "|Employee_ID|       Company|           Job_Title|               Email|        Phone_Number| Gender|Marital_Status|\n",
      "+-----------+--------------+--------------------+--------------------+--------------------+-------+--------------+\n",
      "|          0|Guerra-Elliott|Loss adjuster, ch...|andrewthompson@ex...| +1-549-979-2325x588|  Other|        Single|\n",
      "|          1|  Kaiser-White|Scientist, clinic...|stephanierobinson...|001-741-216-5412x...|  Other|      Divorced|\n",
      "|          2|       unknown|    Industrial buyer|sandersjessica@ex...|        577-515-7326|unknown|        Single|\n",
      "|          3|Salas-Gonzalez|Scientist, biomed...|             unknown|        623-694-0978|unknown|       unknown|\n",
      "|          4|       unknown|Housing manager/o...|wilkinsontravis@e...|    293.809.0487x561|   Male|      Divorced|\n",
      "+-----------+--------------+--------------------+--------------------+--------------------+-------+--------------+\n",
      "only showing top 5 rows\n",
      "\n"
     ]
    }
   ],
   "source": [
    "# Employee table\n",
    "Employee = df_clean.select('Company','Job_Title','Email','Phone_Number','Gender','Marital_Status').distinct()\\\n",
    "                   .withColumn('Employee_ID', monotonically_increasing_id())\\\n",
    "                   .select('Employee_ID','Company','Job_Title','Email','Phone_Number','Gender','Marital_Status')\n",
    "\n",
    "Employee.show(5)"
   ]
  },
  {
   "cell_type": "code",
   "execution_count": 15,
   "metadata": {},
   "outputs": [
    {
     "name": "stdout",
     "output_type": "stream",
     "text": [
      "+--------------+-----------+-----------+------------------+--------------------+-------------+-------------+--------+-----+---------+--------------------+--------------------+\n",
      "|Transaction_ID|Customer_ID|Employee_ID|Credit_Card_Number|                IBAN|Currency_Code|Random_Number|Category|Group|Is_Active|        Last_Updated|         Description|\n",
      "+--------------+-----------+-----------+------------------+--------------------+-------------+-------------+--------+-----+---------+--------------------+--------------------+\n",
      "|    8590082843| 8589994529|     110291|   213171061574994|GB18FLXT166730972...|          TWD|         NULL|       D|    Z|      Yes|2022-02-02 15:27:...|House national us...|\n",
      "|         23786|25769842739|      37977|  6582679897553149|GB50WGDZ755811852...|          KPW|       9130.0|       A|    X|      Yes|2023-11-08 21:48:...|Everyone recogniz...|\n",
      "|    8589993294|      81237|      89620|  2680275351048591|                NULL|          ZAR|       8607.0|       C|    Y|      Yes|2020-08-20 02:44:...|Participant act r...|\n",
      "|   25769972851| 8590156395|     189931|      676106595363|GB94SSXT071940886...|          AMD|       1430.0|       C|    Y|      Yes|2024-03-08 06:42:...|Agree myself send...|\n",
      "|   17180008249|25769951574|     138777|  3599760794875435|GB86WKRO158827855...|         NULL|       1758.0|       B|    Z|       No|2020-11-24 22:05:...|Mean season parti...|\n",
      "+--------------+-----------+-----------+------------------+--------------------+-------------+-------------+--------+-----+---------+--------------------+--------------------+\n",
      "only showing top 5 rows\n",
      "\n"
     ]
    }
   ],
   "source": [
    "Fact_table = df.join(Customer, ['Customer_Name','Customer_Address','Customer_City',\\\n",
    "                                        'Customer_State','Customer_Country'], 'inner')\\\n",
    "                         .join(Transaction, ['Transaction_Date', 'Amount', 'Transaction_Type'],'inner')\\\n",
    "                         .join(Employee, ['Company','Job_Title','Email','Phone_Number','Gender','Marital_Status'], 'inner')\\\n",
    "                         .select('Transaction_ID','Customer_ID','Employee_ID','Credit_Card_Number','IBAN',\\\n",
    "                                 'Currency_Code','Random_Number','Category','Group','Is_Active','Last_Updated','Description')   \n",
    "\n",
    "\n",
    "Fact_table.show(5)\n"
   ]
  },
  {
   "cell_type": "markdown",
   "metadata": {},
   "source": [
    "### DATA LOADING"
   ]
  },
  {
   "cell_type": "code",
   "execution_count": 16,
   "metadata": {},
   "outputs": [],
   "source": [
    "# DATA LOADING\n",
    "load_dotenv()\n",
    "\n",
    "def get_db_connection():\n",
    "    connection = psycopg2.connect(\n",
    "        host=os.getenv(\"DB_HOST\"),\n",
    "        database=os.getenv(\"DB_NAME\"),\n",
    "        user=os.getenv(\"DB_USER\"),\n",
    "        password=os.getenv(\"DB_PASSWORD\")\n",
    "    )\n",
    "    return connection\n",
    "\n",
    "# Establish connection\n",
    "conn = get_db_connection()"
   ]
  },
  {
   "cell_type": "code",
   "execution_count": 17,
   "metadata": {},
   "outputs": [],
   "source": [
    "#conn = sqlite3.connect('Globus_bank')"
   ]
  },
  {
   "cell_type": "code",
   "execution_count": 18,
   "metadata": {},
   "outputs": [],
   "source": [
    "# create table schema in postgresql\n",
    "\n",
    "def create_table():\n",
    "    cursor = conn.cursor()\n",
    "\n",
    "    queries = '''\n",
    "        DROP TABLE IF EXISTS Customer;\n",
    "        DROP TABLE IF EXISTS Transaction;\n",
    "        DROP TABLE IF EXISTS Employee;\n",
    "        DROP TABLE IF EXISTS Fact_table;\n",
    "\n",
    "        CREATE TABLE Customer (\n",
    "            Customer_ID BIGINT,\n",
    "            Customer_Name VARCHAR(1000),\n",
    "            Customer_Address VARCHAR(1000),\n",
    "            Customer_City VARCHAR(1000),\n",
    "            Customer_State VARCHAR(1000),\n",
    "            Customer_Country VARCHAR(1000)\n",
    "        );\n",
    "\n",
    "        CREATE TABLE Transaction (\n",
    "            Transaction_ID BIGINT,\n",
    "            Transaction_Type VARCHAR(1000),\n",
    "            Amount FLOAT,\n",
    "            Transaction_Date DATE\n",
    "        );\n",
    "\n",
    "        CREATE TABLE Employee (\n",
    "            Employee_ID BIGINT,\n",
    "            Company VARCHAR(1000),\n",
    "            Job_Title VARCHAR(1000),\n",
    "            Email VARCHAR(1000),\n",
    "            Phone_Number VARCHAR(1000),\n",
    "            Gender VARCHAR(1000),\n",
    "            Marital_Status VARCHAR(1000)\n",
    "        );\n",
    "\n",
    "        CREATE TABLE Fact_table (\n",
    "            Customer_ID BIGINT,\n",
    "            Transaction_ID BIGINT,\n",
    "            Employee_ID BIGINT,\n",
    "            Credit_Card_Number BIGINT,\n",
    "            IBAN VARCHAR(1000),\n",
    "            Currency_Code VARCHAR(1000),\n",
    "            Random_Number FLOAT,\n",
    "            Category VARCHAR(1000),\n",
    "            \"Group\" VARCHAR(1000),\n",
    "            Is_Active VARCHAR(1000),\n",
    "            Last_Updated DATE,\n",
    "            Description VARCHAR(1000)\n",
    "        );\n",
    "    '''\n",
    "\n",
    "    # Split the queries by semicolon and execute each one\n",
    "    for query in queries.split(';'):\n",
    "        query = query.strip()\n",
    "        if query:  # avoid executing empty strings\n",
    "            cursor.execute(query)\n",
    "\n",
    "    conn.commit()\n",
    "    cursor.close()\n",
    "    conn.close()"
   ]
  },
  {
   "cell_type": "code",
   "execution_count": 19,
   "metadata": {},
   "outputs": [],
   "source": [
    "create_table()"
   ]
  },
  {
   "cell_type": "code",
   "execution_count": 20,
   "metadata": {},
   "outputs": [
    {
     "name": "stdout",
     "output_type": "stream",
     "text": [
      "Database, Table, and data loaded successfully\n"
     ]
    }
   ],
   "source": [
    "# Load environment variables from .env file\n",
    "load_dotenv()\n",
    "\n",
    "# Retrieve credentials from environment variables\n",
    "url = os.getenv(\"DB_URL\")\n",
    "properties = { \n",
    "    \"user\": os.getenv(\"DB_USER\"),\n",
    "    \"password\": os.getenv(\"DB_PASSWORD\"),\n",
    "    \"driver\": os.getenv(\"DB_DRIVER\")\n",
    "}\n",
    "\n",
    "# Writing data to tables\n",
    "Customer.write.jdbc(url=url, table=\"Customer\", mode=\"append\", properties=properties)\n",
    "Transaction.write.jdbc(url=url, table=\"Transaction\", mode=\"append\", properties=properties)\n",
    "Employee.write.jdbc(url=url, table=\"Employee\", mode=\"append\", properties=properties)\n",
    "Fact_table.write.jdbc(url=url, table=\"Fact_table\", mode=\"append\", properties=properties)\n",
    "\n",
    "print('Database, Table, and data loaded successfully')"
   ]
  }
 ],
 "metadata": {
  "kernelspec": {
   "display_name": "Python 3",
   "language": "python",
   "name": "python3"
  },
  "language_info": {
   "codemirror_mode": {
    "name": "ipython",
    "version": 3
   },
   "file_extension": ".py",
   "mimetype": "text/x-python",
   "name": "python",
   "nbconvert_exporter": "python",
   "pygments_lexer": "ipython3",
   "version": "3.12.6"
  }
 },
 "nbformat": 4,
 "nbformat_minor": 2
}
